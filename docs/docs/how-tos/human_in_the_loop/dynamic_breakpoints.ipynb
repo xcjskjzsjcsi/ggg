{
 "cells": [
  {
   "cell_type": "markdown",
   "id": "ee54cde3-7e4d-43f4-b921-e7141ea0f19e",
   "metadata": {},
   "source": [
    "# How to add dynamic breakpoints"
   ]
  },
  {
   "cell_type": "markdown",
   "id": "607849c6-4b8c-4e06-ad9c-758bb5a08e86",
   "metadata": {},
   "source": [
    "Human-in-the-loop (HIL) interactions are crucial for [agentic systems](https://langchain-ai.github.io/langgraph/concepts/agentic_concepts/#human-in-the-loop). [Breakpoints](https://langchain-ai.github.io/langgraph/concepts/low_level/#breakpoints) are a common HIL interaction pattern, allowing the graph to stop at specific steps and seek human approval before proceeding (e.g., for sensitive actions).\n",
    "\n",
    "In LangGraph you can add breakpoints before / after a node is executed. But oftentimes it may be helpful to **dynamically** interrupt the graph from inside a given node based on some condition. When doing so, it may also be helpful to include information about **why** that interrupt was raised.\n",
    "\n",
    "This guide shows how you can dynamically interrupt the graph using `NodeInterrupt` -- a special exception that can be raised from inside a node. Let's see it in action!\n",
    "\n",
    "## Setup\n",
    "\n",
    "First, let's install the required packages"
   ]
  },
  {
   "cell_type": "code",
   "execution_count": 1,
   "id": "2013d058-c245-498e-ba05-5af99b9b8a1b",
   "metadata": {},
   "outputs": [],
   "source": [
    "%%capture --no-stderr\n",
    "%pip install -U langgraph"
   ]
  },
  {
   "cell_type": "markdown",
   "id": "d9f9574b",
   "metadata": {},
   "source": [
    "<div class=\"admonition tip\">\n",
    "    <p class=\"admonition-title\">Set up <a href=\"https://smith.langchain.com\">LangSmith</a> for LangGraph development</p>\n",
    "    <p style=\"padding-top: 5px;\">\n",
    "        Sign up for LangSmith to quickly spot issues and improve the performance of your LangGraph projects. LangSmith lets you use trace data to debug, test, and monitor your LLM apps built with LangGraph — read more about how to get started <a href=\"https://docs.smith.langchain.com\">here</a>. \n",
    "    </p>\n",
    "</div>"
   ]
  },
  {
   "cell_type": "markdown",
   "id": "e9aa244f-1dd9-450e-9526-b1a28b30f84f",
   "metadata": {},
   "source": [
    "## Define the graph"
   ]
  },
  {
   "cell_type": "code",
   "execution_count": 1,
   "id": "9a14c8b2-5c25-4201-93ea-e5358ee99bcb",
   "metadata": {},
   "outputs": [
    {
     "data": {
      "image/jpeg": "[encoded data removed]",
      "text/plain": [
       "<IPython.core.display.Image object>"
      ]
     },
     "metadata": {},
     "output_type": "display_data"
    }
   ],
   "source": [
    "from typing_extensions import TypedDict\n",
    "from IPython.display import Image, display\n",
    "\n",
    "from langgraph.graph import StateGraph, START, END\n",
    "from langgraph.checkpoint.memory import MemorySaver\n",
    "from langgraph.errors import NodeInterrupt\n",
    "\n",
    "\n",
    "class State(TypedDict):\n",
    "    input: str\n",
    "\n",
    "\n",
    "def step_1(state: State) -> State:\n",
    "    print(\"---Step 1---\")\n",
    "    return state\n",
    "\n",
    "\n",
    "def step_2(state: State) -> State:\n",
    "    # Let's optionally raise a NodeInterrupt\n",
    "    # if the length of the input is longer than 5 characters\n",
    "    if len(state[\"input\"]) > 5:\n",
    "        raise NodeInterrupt(\n",
    "            f\"Received input that is longer than 5 characters: {state['input']}\"\n",
    "        )\n",
    "\n",
    "    print(\"---Step 2---\")\n",
    "    return state\n",
    "\n",
    "\n",
    "def step_3(state: State) -> State:\n",
    "    print(\"---Step 3---\")\n",
    "    return state\n",
    "\n",
    "\n",
    "builder = StateGraph(State)\n",
    "builder.add_node(\"step_1\", step_1)\n",
    "builder.add_node(\"step_2\", step_2)\n",
    "builder.add_node(\"step_3\", step_3)\n",
    "builder.add_edge(START, \"step_1\")\n",
    "builder.add_edge(\"step_1\", \"step_2\")\n",
    "builder.add_edge(\"step_2\", \"step_3\")\n",
    "builder.add_edge(\"step_3\", END)\n",
    "\n",
    "# Set up memory\n",
    "memory = MemorySaver()\n",
    "\n",
    "# Compile the graph with memory\n",
    "graph = builder.compile(checkpointer=memory)\n",
    "\n",
    "# View\n",
    "display(Image(graph.get_graph().draw_mermaid_png()))"
   ]
  },
  {
   "cell_type": "markdown",
   "id": "ad5521e1-0e58-42c5-9282-ff96f24ee6f6",
   "metadata": {},
   "source": [
    "## Run the graph with dynamic interrupt"
   ]
  },
  {
   "cell_type": "markdown",
   "id": "83692c63-5c65-4562-9c65-5ad1935e339f",
   "metadata": {},
   "source": [
    "First, let's run the graph with an input that <= 5 characters long. This should safely ignore the interrupt condition we defined and return the original input at the end of the graph execution."
   ]
  },
  {
   "cell_type": "code",
   "execution_count": 3,
   "id": "b2d281f1-3349-4378-8918-7665fa7a7457",
   "metadata": {},
   "outputs": [
    {
     "name": "stdout",
     "output_type": "stream",
     "text": [
      "{'input': 'hello'}\n",
      "---Step 1---\n",
      "{'input': 'hello'}\n",
      "---Step 2---\n",
      "{'input': 'hello'}\n",
      "---Step 3---\n",
      "{'input': 'hello'}\n"
     ]
    }
   ],
   "source": [
    "initial_input = {\"input\": \"hello\"}\n",
    "thread_config = {\"configurable\": {\"thread_id\": \"1\"}}\n",
    "\n",
    "for event in graph.stream(initial_input, thread_config, stream_mode=\"values\"):\n",
    "    print(event)"
   ]
  },
  {
   "cell_type": "markdown",
   "id": "2b66b926-47eb-401b-b37b-d80269d7214c",
   "metadata": {},
   "source": [
    "If we inspect the graph at this point, we can see that there are no more tasks left to run and that the graph indeed finished execution."
   ]
  },
  {
   "cell_type": "code",
   "execution_count": 4,
   "id": "4eac1455-e7ef-4a32-8c14-0d5789409689",
   "metadata": {},
   "outputs": [
    {
     "name": "stdout",
     "output_type": "stream",
     "text": [
      "()\n",
      "()\n"
     ]
    }
   ],
   "source": [
    "state = graph.get_state(thread_config)\n",
    "print(state.next)\n",
    "print(state.tasks)"
   ]
  },
  {
   "attachments": {},
   "cell_type": "markdown",
   "id": "f8e03817-2135-4fb3-b881-fd6d2c378ccf",
   "metadata": {},
   "source": [
    "Now, let's run the graph with an input that's longer than 5 characters. This should trigger the dynamic interrupt we defined via raising a `NodeInterrupt` error inside the `step_2` node."
   ]
  },
  {
   "cell_type": "code",
   "execution_count": 5,
   "id": "c06192ad-13a4-4d2e-8e30-f1c08578fe77",
   "metadata": {},
   "outputs": [
    {
     "name": "stdout",
     "output_type": "stream",
     "text": [
      "{'input': 'hello world'}\n",
      "---Step 1---\n",
      "{'input': 'hello world'}\n"
     ]
    }
   ],
   "source": [
    "initial_input = {\"input\": \"hello world\"}\n",
    "thread_config = {\"configurable\": {\"thread_id\": \"2\"}}\n",
    "\n",
    "# Run the graph until the first interruption\n",
    "for event in graph.stream(initial_input, thread_config, stream_mode=\"values\"):\n",
    "    print(event)"
   ]
  },
  {
   "cell_type": "markdown",
   "id": "173fd4f1-db97-44bb-a9e5-435ed042e3a3",
   "metadata": {},
   "source": [
    "We can see that the graph now stopped while executing `step_2`. If we inspect the graph state at this point, we can see the information on what node is set to execute next (`step_2`), as well as what node raised the interrupt (also `step_2`), and additional information about the interrupt."
   ]
  },
  {
   "cell_type": "code",
   "execution_count": 6,
   "id": "2058593c-178e-4a23-a4c4-860d4a9c2198",
   "metadata": {},
   "outputs": [
    {
     "name": "stdout",
     "output_type": "stream",
     "text": [
      "('step_2',)\n",
      "(PregelTask(id='365d4518-bcff-5abd-8ef5-8a0de7f510b0', name='step_2', error=None, interrupts=(Interrupt(value='Received input that is longer than 5 characters: hello world', when='during'),)),)\n"
     ]
    }
   ],
   "source": [
    "state = graph.get_state(thread_config)\n",
    "print(state.next)\n",
    "print(state.tasks)"
   ]
  },
  {
   "cell_type": "markdown",
   "id": "fc36d1be-ae2e-49c8-a17f-2b27be09618a",
   "metadata": {},
   "source": [
    "If we try to resume the graph from the breakpoint, we will simply interrupt again as our inputs & graph state haven't changed."
   ]
  },
  {
   "cell_type": "code",
   "execution_count": 7,
   "id": "872e7a69-9784-4f81-90c6-6b6af2fa6480",
   "metadata": {},
   "outputs": [],
   "source": [
    "# NOTE: to resume the graph from a dynamic interrupt we use the same syntax as with regular interrupts -- we pass None as the input\n",
    "for event in graph.stream(None, thread_config, stream_mode=\"values\"):\n",
    "    print(event)"
   ]
  },
  {
   "cell_type": "code",
   "execution_count": 8,
   "id": "3275f899-7039-4029-8814-0bb5c33fabfe",
   "metadata": {},
   "outputs": [
    {
     "name": "stdout",
     "output_type": "stream",
     "text": [
      "('step_2',)\n",
      "(PregelTask(id='365d4518-bcff-5abd-8ef5-8a0de7f510b0', name='step_2', error=None, interrupts=(Interrupt(value='Received input that is longer than 5 characters: hello world', when='during'),)),)\n"
     ]
    }
   ],
   "source": [
    "state = graph.get_state(thread_config)\n",
    "print(state.next)\n",
    "print(state.tasks)"
   ]
  },
  {
   "cell_type": "markdown",
   "id": "a5862dea-2af2-48cb-9889-979b6c6af6aa",
   "metadata": {},
   "source": [
    "## Update the graph state"
   ]
  },
  {
   "cell_type": "markdown",
   "id": "c8724ef6-877a-44b9-b96a-ae81efa2d9e4",
   "metadata": {},
   "source": [
    "To get around it, we can do several things. \n",
    "\n",
    "First, we could simply run the graph on a different thread with a shorter input, like we did in the beginning. Alternatively, if we want to resume the graph execution from the breakpoint, we can update the state to have an input that's shorter than 5 characters (the condition for our interrupt)."
   ]
  },
  {
   "cell_type": "code",
   "execution_count": 9,
   "id": "2ba8dc8d-b90e-45f5-92cd-2192fc66f270",
   "metadata": {},
   "outputs": [
    {
     "name": "stdout",
     "output_type": "stream",
     "text": [
      "---Step 2---\n",
      "{'input': 'foo'}\n",
      "---Step 3---\n",
      "{'input': 'foo'}\n",
      "()\n",
      "{'input': 'foo'}\n"
     ]
    }
   ],
   "source": [
    "# NOTE: this update will be applied as of the last successful node before the interrupt, i.e. `step_1`, right before the node with an interrupt\n",
    "graph.update_state(config=thread_config, values={\"input\": \"foo\"})\n",
    "for event in graph.stream(None, thread_config, stream_mode=\"values\"):\n",
    "    print(event)\n",
    "\n",
    "state = graph.get_state(thread_config)\n",
    "print(state.next)\n",
    "print(state.values)"
   ]
  },
  {
   "cell_type": "markdown",
   "id": "6f16980e-aef4-45c9-85eb-955568a93c5b",
   "metadata": {},
   "source": [
    "You can also update the state **as node `step_2`** (interrupted node) which would skip over that node altogether"
   ]
  },
  {
   "cell_type": "code",
   "execution_count": 10,
   "id": "9a48e564-d979-4ac2-b815-c667345a9f07",
   "metadata": {},
   "outputs": [
    {
     "name": "stdout",
     "output_type": "stream",
     "text": [
      "{'input': 'hello world'}\n",
      "---Step 1---\n",
      "{'input': 'hello world'}\n"
     ]
    }
   ],
   "source": [
    "initial_input = {\"input\": \"hello world\"}\n",
    "thread_config = {\"configurable\": {\"thread_id\": \"3\"}}\n",
    "\n",
    "# Run the graph until the first interruption\n",
    "for event in graph.stream(initial_input, thread_config, stream_mode=\"values\"):\n",
    "    print(event)"
   ]
  },
  {
   "cell_type": "code",
   "execution_count": 11,
   "id": "17f973ab-00ce-4f16-a452-641e76625fde",
   "metadata": {},
   "outputs": [
    {
     "name": "stdout",
     "output_type": "stream",
     "text": [
      "---Step 3---\n",
      "{'input': 'hello world'}\n",
      "()\n",
      "{'input': 'hello world'}\n"
     ]
    }
   ],
   "source": [
    "# NOTE: this update will skip the node `step_2` altogether\n",
    "graph.update_state(config=thread_config, values=None, as_node=\"step_2\")\n",
    "for event in graph.stream(None, thread_config, stream_mode=\"values\"):\n",
    "    print(event)\n",
    "\n",
    "state = graph.get_state(thread_config)\n",
    "print(state.next)\n",
    "print(state.values)"
   ]
  }
 ],
 "metadata": {
  "kernelspec": {
   "display_name": "Python 3 (ipykernel)",
   "language": "python",
   "name": "python3"
  },
  "language_info": {
   "codemirror_mode": {
    "name": "ipython",
    "version": 3
   },
   "file_extension": ".py",
   "mimetype": "text/x-python",
   "name": "python",
   "nbconvert_exporter": "python",
   "pygments_lexer": "ipython3",
   "version": "3.11.9"
  }
 },
 "nbformat": 4,
 "nbformat_minor": 5
}
